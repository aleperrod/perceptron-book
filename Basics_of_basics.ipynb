{
  "cells": [
    {
      "cell_type": "markdown",
      "metadata": {
        "id": "refoqIa7didH"
      },
      "source": [
        "# Códigos do livro **O Básico do Básico do Básico sobre Aprendizagem Artificial**\n",
        "### A. P. Rodrigues\n"
      ]
    },
    {
      "cell_type": "markdown",
      "metadata": {
        "id": "56HI8jYcdLaL"
      },
      "source": [
        "## Pesos e Vieses ou Parâmetros Treináveis\n",
        "####Exemplo de criação de uma matriz, W, de pesos, 5x7, ou seja, 5 neurônios, cada um com 7 pesos; e um vetor-linha de bias, b, com 5 elementos, usando Numpy.\n"
      ]
    },
    {
      "cell_type": "code",
      "execution_count": null,
      "metadata": {
        "colab": {
          "base_uri": "https://localhost:8080/"
        },
        "id": "SKKeAk9XcSUJ",
        "outputId": "54d0cc4f-4777-4a3e-ea3f-32166c9cca53"
      },
      "outputs": [
        {
          "name": "stdout",
          "output_type": "stream",
          "text": [
            "Matriz de Pesos W:\n",
            "[[ 0.49671415 -0.1382643   0.64768854  1.52302986 -0.23415337 -0.23413696\n",
            "   1.57921282]\n",
            " [ 0.76743473 -0.46947439  0.54256004 -0.46341769 -0.46572975  0.24196227\n",
            "  -1.91328024]\n",
            " [-1.72491783 -0.56228753 -1.01283112  0.31424733 -0.90802408 -1.4123037\n",
            "   1.46564877]\n",
            " [-0.2257763   0.0675282  -1.42474819 -0.54438272  0.11092259 -1.15099358\n",
            "   0.37569802]\n",
            " [-0.60063869 -0.29169375 -0.60170661  1.85227818 -0.01349722 -1.05771093\n",
            "   0.82254491]]\n",
            "\n",
            "Vetor de Bias b:\n",
            "[-1.22084365  0.2088636  -1.95967012 -1.32818605  0.19686124]\n"
          ]
        }
      ],
      "source": [
        "# Criando a matriz de pesos W (5x7)\n",
        "W = np.random.randn(5, 7)\n",
        "\n",
        "# Criando o vetor-linha de bias b (5 elementos)\n",
        "b = np.random.randn(5)\n",
        "\n",
        "# Exibindo W e b\n",
        "print(\"Matriz de Pesos W:\")\n",
        "print(W)\n",
        "print(\"\\nVetor de Bias b:\")\n",
        "print(b)"
      ]
    },
    {
      "cell_type": "markdown",
      "metadata": {
        "id": "RKPrMt25cZlu"
      },
      "source": [
        "## A Forma Geral do Perceptron\n",
        "####Código da equação de um Perceptron de camada única y=Wx+b."
      ]
    },
    {
      "cell_type": "code",
      "execution_count": null,
      "metadata": {
        "colab": {
          "base_uri": "https://localhost:8080/"
        },
        "id": "9H2AfsdCfFWu",
        "outputId": "be62c206-07f0-4f12-f0fb-9bfaa06d8a4d"
      },
      "outputs": [
        {
          "name": "stdout",
          "output_type": "stream",
          "text": [
            "Matriz de Pesos W (5x7):\n",
            "[[ 0.73846658  0.17136828 -0.11564828 -0.3011037  -1.47852199 -0.71984421\n",
            "  -0.46063877]\n",
            " [ 1.05712223  0.34361829 -1.76304016  0.32408397 -0.38508228 -0.676922\n",
            "   0.61167629]\n",
            " [ 1.03099952  0.93128012 -0.83921752 -0.30921238  0.33126343  0.97554513\n",
            "  -0.47917424]\n",
            " [-0.18565898 -1.10633497 -1.19620662  0.81252582  1.35624003 -0.07201012\n",
            "   1.0035329 ]\n",
            " [ 0.36163603 -0.64511975  0.36139561  1.53803657 -0.03582604  1.56464366\n",
            "  -2.6197451 ]]\n",
            "\n",
            "Vetor Coluna x (7 elementos):\n",
            "[[ 0.8219025 ]\n",
            " [ 0.08704707]\n",
            " [-0.29900735]\n",
            " [ 0.09176078]\n",
            " [-1.98756891]\n",
            " [-0.21967189]\n",
            " [ 0.35711257]]\n",
            "\n",
            "Vetor Linha de Bias b (5 elementos):\n",
            "[[ 1.47789404 -0.51827022 -0.8084936  -0.50175704  0.91540212]]\n",
            "\n",
            "Vetor Resultante y (5 elementos):\n",
            "[[ 5.03900285]\n",
            " [ 2.06990791]\n",
            " [-0.70131655]\n",
            " [-2.63984897]\n",
            " [-0.01849804]]\n"
          ]
        }
      ],
      "source": [
        "# Criando a matriz de pesos W (5x7)\n",
        "W = np.random.randn(5, 7)\n",
        "\n",
        "# Criando o vetor coluna x (7 elementos)\n",
        "x = np.random.randn(7, 1)\n",
        "\n",
        "# Criando o vetor linha de bias b (5 elementos)\n",
        "b = np.random.randn(1, 5)\n",
        "\n",
        "# Calculando y = W · x + b\n",
        "y = W.dot(x) + b.T\n",
        "\n",
        "# Imprimindo os valores\n",
        "print(\"Matriz de Pesos W (5x7):\")\n",
        "print(W)\n",
        "print(\"\\nVetor Coluna x (7 elementos):\")\n",
        "print(x)\n",
        "print(\"\\nVetor Linha de Bias b (5 elementos):\")\n",
        "print(b)\n",
        "print(\"\\nVetor Resultante y (5 elementos):\")\n",
        "print(y)"
      ]
    },
    {
      "cell_type": "markdown",
      "metadata": {
        "id": "kg9ORQOje-QJ"
      },
      "source": [
        "## A Forma Geral do Perceptron com uma Função de Ativação Sigmoid\n",
        "####Código da equação de um Perceptron de camada única (5 neurônios cada um com 7 pesos) com a função de ativação Sigmoid."
      ]
    },
    {
      "cell_type": "code",
      "execution_count": null,
      "metadata": {
        "colab": {
          "base_uri": "https://localhost:8080/"
        },
        "id": "39kURCN9bYl1",
        "outputId": "1707f409-31b3-42e4-c889-2191cf11ac0b"
      },
      "outputs": [
        {
          "name": "stdout",
          "output_type": "stream",
          "text": [
            "Matriz de Pesos W (5x7):\n",
            "[[ 0.49671415 -0.1382643   0.64768854  1.52302986 -0.23415337 -0.23413696\n",
            "   1.57921282]\n",
            " [ 0.76743473 -0.46947439  0.54256004 -0.46341769 -0.46572975  0.24196227\n",
            "  -1.91328024]\n",
            " [-1.72491783 -0.56228753 -1.01283112  0.31424733 -0.90802408 -1.4123037\n",
            "   1.46564877]\n",
            " [-0.2257763   0.0675282  -1.42474819 -0.54438272  0.11092259 -1.15099358\n",
            "   0.37569802]\n",
            " [-0.60063869 -0.29169375 -0.60170661  1.85227818 -0.01349722 -1.05771093\n",
            "   0.82254491]]\n",
            "\n",
            "Vetor Coluna x (7 elementos):\n",
            "[[-1.22084365]\n",
            " [ 0.2088636 ]\n",
            " [-1.95967012]\n",
            " [-1.32818605]\n",
            " [ 0.19686124]\n",
            " [ 0.73846658]\n",
            " [ 0.17136828]]\n",
            "\n",
            "Vetor Linha de Bias b (5 elementos):\n",
            "[[-0.11564828 -0.3011037  -1.47852199 -0.71984421 -0.46063877]]\n",
            "\n",
            "Vetor de linearidades y (5 elementos):\n",
            "[[-3.99143092]\n",
            " [-2.02469004]\n",
            " [ 1.10679945]\n",
            " [ 2.32122432]\n",
            " [-1.71208376]]\n",
            "\n",
            "Vetor de ativações y_hat (5 elementos):\n",
            "[[0.01813819]\n",
            " [0.1166349 ]\n",
            " [0.75153195]\n",
            " [0.91061964]\n",
            " [0.15289364]]\n"
          ]
        }
      ],
      "source": [
        "# Criando a matriz de pesos W (5x7)\n",
        "W = np.random.randn(5, 7)\n",
        "\n",
        "# Criando o vetor coluna x (7 elementos)\n",
        "x = np.random.randn(7, 1)\n",
        "\n",
        "# Criando o vetor linha de bias b (5 elementos)\n",
        "b = np.random.randn(1, 5)\n",
        "\n",
        "# Calculando y = W · x + b\n",
        "y = W.dot(x) + b.T\n",
        "\n",
        "# Definindo o método sigmoid\n",
        "def sigmoid(x):\n",
        "    return 1 / (1 + np.exp(-x))\n",
        "\n",
        "# Aplicando a função sigmoid à matriz y\n",
        "y_hat = sigmoid(y)\n",
        "\n",
        "# Imprimindo os valores\n",
        "print(\"Matriz de Pesos W (5x7):\")\n",
        "print(W)\n",
        "print(\"\\nVetor Coluna x (7 elementos):\")\n",
        "print(x)\n",
        "print(\"\\nVetor Linha de Bias b (5 elementos):\")\n",
        "print(b)\n",
        "print(\"\\nVetor de linearidades y (5 elementos):\")\n",
        "print(y)\n",
        "print(\"\\nVetor de ativações y_hat (5 elementos):\")\n",
        "print(y_hat)"
      ]
    },
    {
      "cell_type": "markdown",
      "metadata": {
        "id": "Q4jXXarryHMI"
      },
      "source": [
        "## Um Exemplo Inteiro, em Código, da Construção e Treino de Um Perceptron\n",
        "###Preparação das oito imagens que serão classificadas.\n"
      ]
    },
    {
      "cell_type": "code",
      "execution_count": 1,
      "metadata": {
        "id": "nrun-4P6UZ5x"
      },
      "outputs": [],
      "source": [
        "import requests\n",
        "from PIL import Image\n",
        "from io import BytesIO\n",
        "import numpy as np\n",
        "import matplotlib.pyplot as plt\n",
        "\n",
        "# Definição de seed para tornar os resultados reprodutíveis.\n",
        "np.random.seed(42)\n",
        "\n",
        "url = 'https://raw.githubusercontent.com/aleperrod/perceptron-book/2e9af4436dd7317ea18fbcae583429cccc944ef0/carinhas/'\n",
        "\n",
        "def download_and_prepare_image(url):\n",
        "    response = requests.get(url)\n",
        "    img = Image.open(BytesIO(response.content))\n",
        "    img = img.convert('L')  # Convertendo para escala de cinza\n",
        "    img_array = np.array(img)\n",
        "    img_array = img_array / 255.0  # Normalizando os valores dos pixels\n",
        "    img_array = np.where(img_array > 0.7, 1, 0)\n",
        "    return img_array.flatten()\n",
        "\n",
        "# URLs de exemplo (substitua pelos URLs reais das suas \"carinhas\")\n",
        "urls = [\n",
        "    url + 'gross1.png',\n",
        "    url + 'gross2.png',\n",
        "    url + 'gross3.png',\n",
        "    url + 'thin1.png',\n",
        "    url + 'thin2.png',\n",
        "    url + 'thin3.png',\n",
        "    url + 'thin4.png',\n",
        "    url + 'gross4.png',\n",
        "    # Adicione mais URLs conforme necessário\n",
        "]\n",
        "\n",
        "# Baixando e preparando as imagens\n",
        "images = [download_and_prepare_image(url) for url in urls]\n",
        "\n",
        "# Convertendo para um array numpy para treinamento\n",
        "X = np.array(images[:6])\n",
        "test_X = np.array(images[6:])\n",
        "\n",
        "# Exemplo de labels (substitua pelos labels reais)\n",
        "Z = np.array([0, 0, 0, 1, 1, 1])  # 1 para alegre, 0 para triste\n",
        "\n",
        "# Agora você pode usar esses inputs (X) e labels (Z) para treinar seu perceptron\n"
      ]
    },
    {
      "cell_type": "code",
      "execution_count": 2,
      "metadata": {
        "colab": {
          "base_uri": "https://localhost:8080/",
          "height": 406
        },
        "collapsed": true,
        "id": "0yUIMua_WZKM",
        "outputId": "29495660-4ac5-4be1-c548-9869498ef519"
      },
      "outputs": [
        {
          "output_type": "display_data",
          "data": {
            "text/plain": [
              "<Figure size 640x480 with 1 Axes>"
            ],
            "image/png": "[encoded data removed]"
          },
          "metadata": {}
        }
      ],
      "source": [
        "image = test_X[0].reshape((20, 20))\n",
        "\n",
        "# Exiba a imagem\n",
        "plt.imshow(image, cmap='gray')\n",
        "plt.axis('off')  # Remove os eixos\n",
        "plt.show()"
      ]
    },
    {
      "cell_type": "markdown",
      "source": [
        "##Criando o Perceptron\n",
        "###Criação e treino de um Perceptron de camada única e com um único neurônio, com a função de ativação Sigmoid."
      ],
      "metadata": {
        "id": "F_qVm6zLXeU4"
      }
    },
    {
      "cell_type": "code",
      "execution_count": 3,
      "metadata": {
        "colab": {
          "base_uri": "https://localhost:8080/"
        },
        "collapsed": true,
        "id": "O2hRlwjI10AW",
        "outputId": "a5b0f60e-b46b-4ea0-96b5-f5e1a15cd74e"
      },
      "outputs": [
        {
          "output_type": "stream",
          "name": "stdout",
          "text": [
            "[3.74540119e-03 9.50714306e-03 7.31993942e-03 5.98658484e-03\n",
            " 1.56018640e-03 1.55994520e-03 5.80836122e-04 8.66176146e-03\n",
            " 6.01115012e-03 7.08072578e-03 2.05844943e-04 9.69909852e-03\n",
            " 8.32442641e-03 2.12339111e-03 1.81824967e-03 1.83404510e-03\n",
            " 3.04242243e-03 5.24756432e-03 4.31945019e-03 2.91229140e-03\n",
            " 6.11852895e-03 1.39493861e-03 2.92144649e-03 3.66361843e-03\n",
            " 4.56069984e-03 7.85175961e-03 1.99673782e-03 5.14234438e-03\n",
            " 5.92414569e-03 4.64504127e-04 6.07544852e-03 1.70524124e-03\n",
            " 6.50515930e-04 9.48885537e-03 9.65632033e-03 8.08397348e-03\n",
            " 3.04613769e-03 9.76721140e-04 6.84233027e-03 4.40152494e-03\n",
            " 1.22038235e-03 4.95176910e-03 3.43885211e-04 9.09320402e-03\n",
            " 2.58779982e-03 6.62522284e-03 3.11711076e-03 5.20068021e-03\n",
            " 5.46710279e-03 1.84854456e-03 9.69584628e-03 7.75132823e-03\n",
            " 9.39498942e-03 8.94827350e-03 5.97899979e-03 9.21874235e-03\n",
            " 8.84925021e-04 1.95982862e-03 4.52272889e-04 3.25330331e-03\n",
            " 3.88677290e-03 2.71349032e-03 8.28737509e-03 3.56753327e-03\n",
            " 2.80934510e-03 5.42696083e-03 1.40924225e-03 8.02196981e-03\n",
            " 7.45506437e-04 9.86886937e-03 7.72244769e-03 1.98715682e-03\n",
            " 5.52211712e-05 8.15461428e-03 7.06857344e-03 7.29007168e-03\n",
            " 7.71270347e-03 7.40446517e-04 3.58465729e-03 1.15869060e-03\n",
            " 8.63103426e-03 6.23298127e-03 3.30898025e-03 6.35583503e-04\n",
            " 3.10982322e-03 3.25183322e-03 7.29606178e-03 6.37557471e-03\n",
            " 8.87212743e-03 4.72214925e-03 1.19594246e-03 7.13244787e-03\n",
            " 7.60785049e-03 5.61277198e-03 7.70967180e-03 4.93795596e-03\n",
            " 5.22732829e-03 4.27541018e-03 2.54191267e-04 1.07891427e-03\n",
            " 3.14291857e-04 6.36410411e-03 3.14355981e-03 5.08570691e-03\n",
            " 9.07566474e-03 2.49292229e-03 4.10382923e-03 7.55551139e-03\n",
            " 2.28798165e-03 7.69799098e-04 2.89751453e-03 1.61221287e-03\n",
            " 9.29697652e-03 8.08120380e-03 6.33403757e-03 8.71460590e-03\n",
            " 8.03672077e-03 1.86570059e-03 8.92558998e-03 5.39342242e-03\n",
            " 8.07440155e-03 8.96091300e-03 3.18003475e-03 1.10051925e-03\n",
            " 2.27935163e-03 4.27107789e-03 8.18014766e-03 8.60730583e-03\n",
            " 6.95213053e-05 5.10747303e-03 4.17411003e-03 2.22107810e-03\n",
            " 1.19865367e-03 3.37615171e-03 9.42909704e-03 3.23202932e-03\n",
            " 5.18790622e-03 7.03018959e-03 3.63629602e-03 9.71782083e-03\n",
            " 9.62447295e-03 2.51782296e-03 4.97248506e-03 3.00878310e-03\n",
            " 2.84840494e-03 3.68869474e-04 6.09564334e-03 5.02679023e-03\n",
            " 5.14787512e-04 2.78646464e-03 9.08265886e-03 2.39561891e-03\n",
            " 1.44894872e-03 4.89452760e-03 9.85650454e-03 2.42055272e-03\n",
            " 6.72135547e-03 7.61619615e-03 2.37637544e-03 7.28216349e-03\n",
            " 3.67783133e-03 6.32305831e-03 6.33529711e-03 5.35774684e-03\n",
            " 9.02897701e-04 8.35302496e-03 3.20780065e-03 1.86518510e-03\n",
            " 4.07751416e-04 5.90892943e-03 6.77564362e-03 1.65878289e-04\n",
            " 5.12093058e-03 2.26495775e-03 6.45172790e-03 1.74366429e-03\n",
            " 6.90937738e-03 3.86735346e-03 9.36729989e-03 1.37520944e-03\n",
            " 3.41066351e-03 1.13473521e-03 9.24693618e-03 8.77339353e-03\n",
            " 2.57941628e-03 6.59984046e-03 8.17222200e-03 5.55200812e-03\n",
            " 5.29650578e-03 2.41852291e-03 9.31027678e-04 8.97215758e-03\n",
            " 9.00418057e-03 6.33101457e-03 3.39029791e-03 3.49209575e-03\n",
            " 7.25955679e-03 8.97110260e-03 8.87086424e-03 7.79875546e-03\n",
            " 6.42031646e-03 8.41399650e-04 1.61628714e-03 8.98554189e-03\n",
            " 6.06429060e-03 9.19705162e-05 1.01471543e-03 6.63501769e-03\n",
            " 5.06158385e-05 1.60808051e-03 5.48733789e-03 6.91895198e-03\n",
            " 6.51961260e-03 2.24269309e-03 7.12179221e-03 2.37249087e-03\n",
            " 3.25399698e-03 7.46491405e-03 6.49632899e-03 8.49223410e-03\n",
            " 6.57612892e-03 5.68308603e-03 9.36747678e-04 3.67715803e-03\n",
            " 2.65202368e-03 2.43989643e-03 9.73010555e-03 3.93097725e-03\n",
            " 8.92046555e-03 6.31138626e-03 7.94811304e-03 5.02637093e-03\n",
            " 5.76903885e-03 4.92517694e-03 1.95242988e-03 7.22452115e-03\n",
            " 2.80772362e-03 2.43159664e-04 6.45472296e-03 1.77110679e-03\n",
            " 9.40458584e-03 9.53928577e-03 9.14864390e-03 3.70158700e-03\n",
            " 1.54566165e-04 9.28318563e-03 4.28184148e-03 9.66654819e-03\n",
            " 9.63619977e-03 8.53009455e-03 2.94448892e-03 3.85097729e-03\n",
            " 8.51136672e-03 3.16922005e-03 1.69492747e-03 5.56801262e-03\n",
            " 9.36154774e-03 6.96029797e-03 5.70061170e-03 9.71764938e-04\n",
            " 6.15007227e-03 9.90053850e-03 1.40084015e-03 5.18329652e-03\n",
            " 8.77373072e-03 7.40768618e-03 6.97015741e-03 7.02484084e-03\n",
            " 3.59491151e-03 2.93591844e-03 8.09361155e-03 8.10113395e-03\n",
            " 8.67072319e-03 9.13240553e-03 5.11342399e-03 5.01516295e-03\n",
            " 7.98295179e-03 6.49963931e-03 7.01966877e-03 7.95792669e-03\n",
            " 8.90005342e-03 3.37995157e-03 3.75582953e-03 9.39819398e-04\n",
            " 5.78280141e-03 3.59422738e-04 4.65598018e-03 5.42644635e-03\n",
            " 2.86541252e-03 5.90833261e-03 3.05002499e-04 3.73481887e-04\n",
            " 8.22600561e-03 3.60190641e-03 1.27060513e-03 5.22243260e-03\n",
            " 7.69993553e-03 2.15821027e-03 6.22890476e-03 8.53474650e-04\n",
            " 5.16817212e-04 5.31354632e-03 5.40635122e-03 6.37429901e-03\n",
            " 7.26091334e-03 9.75852079e-03 5.16300348e-03 3.22956473e-03\n",
            " 7.95186195e-03 2.70832251e-03 4.38971421e-03 7.84563813e-04\n",
            " 2.53507434e-04 9.62648415e-03 8.35980121e-03 6.95974206e-03\n",
            " 4.08952944e-03 1.73294320e-03 1.56437043e-03 2.50242898e-03\n",
            " 5.49226665e-03 7.14595923e-03 6.60197377e-03 2.79933897e-03\n",
            " 9.54865281e-03 7.37896917e-03 5.54354053e-03 6.11720746e-03\n",
            " 4.19600062e-03 2.47730990e-03 3.55972679e-03 7.57846110e-03\n",
            " 1.43934886e-04 1.16072641e-03 4.60026420e-04 4.07288023e-04\n",
            " 8.55460584e-03 7.03657859e-03 4.74173829e-03 9.78341607e-04\n",
            " 4.91615875e-03 4.73471771e-03 1.73201870e-03 4.33851649e-03\n",
            " 3.98504734e-03 6.15850098e-03 6.35093651e-03 4.53040098e-04\n",
            " 3.74612615e-03 6.25859916e-03 5.03136259e-03 8.56489841e-03\n",
            " 6.58693632e-03 1.62934427e-03 7.05687474e-04 6.42419278e-03\n",
            " 2.65113105e-04 5.85775581e-03 9.40230241e-03 5.75474178e-03\n",
            " 3.88169926e-03 6.43288218e-03 4.58252890e-03 5.45616789e-03\n",
            " 9.41464809e-03 3.86102638e-03 9.61190564e-03 9.05350642e-03\n",
            " 1.95791135e-03 6.93613009e-04 1.00778001e-03 1.82218257e-04\n",
            " 9.44429608e-04 6.83006773e-03 7.11886485e-04 3.18975630e-03\n",
            " 8.44875311e-03 2.32719357e-04 8.14468483e-03 2.81854775e-03\n",
            " 1.18164828e-03 6.96737165e-03 6.28942847e-03 8.77472014e-03\n",
            " 7.35071044e-03 8.03480930e-03 2.82034573e-03 1.77439544e-03\n",
            " 7.50614752e-03 8.06834739e-03 9.90505142e-03 4.12617677e-03\n",
            " 3.72018086e-03 7.76412961e-03 3.40803540e-03 9.30757326e-03\n",
            " 8.58412752e-03 4.28994027e-03 7.50871068e-03 7.54542874e-03]\n",
            "[-0.10341059 -0.09764885 -0.01314442  0.02317181  0.01874541  0.01874517\n",
            "  0.01064193  0.01413245  0.01148184  0.01255141  0.00567653  0.01516979\n",
            "  0.01379511  0.01218448  0.01900347  0.01901927  0.02022765 -0.0152168\n",
            " -0.10283655 -0.1042437  -0.10103747  0.01858016  0.02010667  0.02084884\n",
            "  0.01003139  0.01332245  0.01918196  0.02232757  0.02310937  0.01764973\n",
            "  0.02326067  0.01889047  0.01783574  0.02667408  0.01512701  0.01355466\n",
            "  0.02023136  0.01816195  0.02402755 -0.10275447 -0.01924398  0.02213699\n",
            "  0.01752911  0.01456389  0.01977302  0.02381045  0.02030233  0.0223859\n",
            "  0.02265233  0.01903377  0.02688107  0.02493655  0.02658021  0.0261335\n",
            "  0.02316422  0.02640397  0.00635561  0.01914505  0.0176375  -0.01721106\n",
            "  0.021072    0.01989871  0.00828738  0.01528207  0.01452388  0.0171415\n",
            "  0.01312378  0.01973651  0.01246004  0.02158341  0.01943699  0.01370169\n",
            "  0.01176976  0.01986915  0.01878311  0.01900461  0.01942724  0.00074045\n",
            "  0.01529919  0.01834391  0.02581626  0.00623298  0.01502352  0.01235012\n",
            "  0.02029505  0.02043706  0.02448129  0.0235608   0.02605735  0.02190737\n",
            "  0.01838117  0.02431767  0.02479307  0.022798    0.0248949   0.02212318\n",
            "  0.02241255  0.01598995  0.00025419  0.01826414  0.01749952  0.0063641\n",
            "  0.02032878  0.01680024  0.0207902   0.01967815  0.02128905  0.02474074\n",
            "  0.01947321  0.01795502  0.02008274  0.01879744  0.0264822   0.02526643\n",
            "  0.02351926  0.02042914  0.01975126  0.01905092  0.00892559  0.02257865\n",
            "  0.01813549  0.02067545  0.02036526  0.01828574  0.01399389 -0.02358548\n",
            "  0.02536537  0.02579253  0.01725475  0.0222927   0.02135933  0.0194063\n",
            "  0.01838388  0.02056138 -0.01842746  0.01494657  0.02237313  0.02421541\n",
            "  0.01535083  0.01977891  0.01509516  0.01423236  0.02215771  0.02019401\n",
            " -0.01953746  0.01208341 -0.01983941 -0.01543757 -0.01994957  0.01997169\n",
            "  0.02626788 -0.01806874 -0.01901541 -0.02104052  0.02157104 -0.01996532\n",
            "  0.02390658  0.02480142  0.01409091  0.01275285  0.00914852  0.0180376\n",
            "  0.02352052  0.02254297 -0.02148297  0.02553825 -0.08156233 -0.07076509\n",
            " -0.02005661  0.02309415  0.02396087 -0.02029848 -0.11462988 -0.03538463\n",
            "  0.01651282 -0.0206422   0.0240946   0.02105258  0.02108184  0.0068459\n",
            "  0.00888135  0.01284927  0.02643216  0.02595862 -0.01980645  0.02378506\n",
            "  0.02535745  0.01726655 -0.02256005  0.01960375  0.01811625 -0.06600494\n",
            "  0.02071872  0.02351624  0.02057552 -0.01889377  0.02444478  0.02615633\n",
            "  0.0205854   0.01326944  0.011891    0.01255594  0.01880151  0.02617077\n",
            " -0.01632158 -0.02984335  0.01272925 -0.06834208  0.01723584 -0.02624847\n",
            " -0.02236922 -0.02848705 -0.01586626  0.01395723  0.02430702 -0.02001338\n",
            "  0.02043922  0.02465014  0.01821087  0.01396292  0.01204682  0.01739762\n",
            "  0.01812197  0.02086238 -0.06685439  0.01415443  0.02144464  0.0211162\n",
            " -0.02813898  0.01637248  0.0180092   0.01508746 -0.02416628  0.0221104\n",
            "  0.01366697 -0.01516135  0.01999295  0.01742838  0.01816926  0.00724179\n",
            "  0.01487527  0.02125382  0.02633387  0.02088681 -0.02770199  0.02646841\n",
            "  0.02146707  0.02685177  0.01969729  0.02571532  0.02012971  0.01391207\n",
            "  0.02569659  0.02035444  0.01888015 -0.02228854  0.02107609  0.02414552\n",
            "  0.01741515  0.00644245  0.01621116  0.02161508  0.01858606  0.01689783\n",
            "  0.02595895  0.02459291  0.01956498  0.02421006  0.013656    0.02012114\n",
            "  0.02527884  0.01816222  0.02585595  0.02172723  0.02229865  0.02220039\n",
            "  0.01969749  0.01821418  0.01873421  0.01801902  0.02608528  0.00337995\n",
            "  0.01547037  0.01812504  0.02296803  0.01754465  0.0218412  -0.01503792\n",
            " -0.02931349 -0.01914643 -0.02474976 -0.03180542 -0.01223836  0.02078713\n",
            "  0.01845583  0.02240766  0.02488516  0.01387275  0.0062289   0.0180387\n",
            "  0.01770204  0.01078423  0.01712089  0.01808884  0.01897545  0.02147306\n",
            "  0.01687754 -0.02270548 -0.02510732 -0.03035086 -0.02866947 -0.03227462\n",
            " -0.02568154  0.02134102  0.02007434  0.01867428  0.01580407  0.01344748\n",
            "  0.00703506  0.01968765  0.02267749  0.02433118  0.01207266  0.01998456\n",
            "  0.02673388  0.02456419  0.02272876  0.02330243  0.02138122  0.01966253\n",
            "  0.02074495  0.02476369  0.01732916  0.01834595  0.01764525  0.01759251\n",
            "  0.02573983  0.01250727  0.02192696  0.01816357 -0.0155482   0.02191994\n",
            "  0.01891724  0.0098092   0.02117027  0.02334372  0.02353616  0.01763826\n",
            "  0.02093135  0.02344382  0.02221659  0.02575012  0.02377216  0.01881457\n",
            "  0.01789091  0.02360942  0.0057358   0.02304298  0.02658753 -0.01470962\n",
            " -0.1032743   0.02361811  0.02176775  0.02264139  0.01488533  0.00933171\n",
            "  0.02679713  0.02623873  0.01914314  0.01787884  0.018193    0.01736744\n",
            "  0.01812965  0.02401529  0.00618257  0.00866044  0.02563398  0.01741794\n",
            "  0.02532991 -0.10433745 -0.10597435 -0.10018862 -0.01417493  0.02595994\n",
            "  0.02453593  0.02522003  0.01288144  0.00724508  0.01297683  0.01353903\n",
            "  0.01537574  0.00959686  0.00919087  0.01782522  0.02059326  0.0264928\n",
            "  0.02576935 -0.01617442 -0.09964728 -0.09961057]\n"
          ]
        }
      ],
      "source": [
        "# Definição de seed para tornar os resultados reprodutíveis.\n",
        "np.random.seed(42)\n",
        "\n",
        "# Função sigmoid e sua derivada\n",
        "def sigmoid(bar_y):\n",
        "    return 1 / (1 + np.exp(-bar_y))\n",
        "\n",
        "def sigmoid_derivative(a):\n",
        "    return a * (1 - a)\n",
        "\n",
        "# Classe Perceptron\n",
        "class Perceptron:\n",
        "    def __init__(self, input_size, learning_rate=0.1):\n",
        "        self.W = np.random.rand(input_size) / 100\n",
        "        # print(f\"self.W: {self.W}\")\n",
        "        self.bias = np.random.rand() / 100\n",
        "        # print(f\"self.bias: {self.bias}\")\n",
        "        self.eta = learning_rate\n",
        "        self.E = []\n",
        "\n",
        "    def predict(self, x):\n",
        "        # bar_y = np.dot(x, self.W) + self.bias\n",
        "        bar_y = np.dot(self.W, x) + self.bias\n",
        "        return sigmoid(bar_y)\n",
        "\n",
        "    def train(self, X, Z, epochs=10000):\n",
        "        for epoch in range(epochs):\n",
        "            e = 0\n",
        "            # Create a list of combined X and Z\n",
        "            D = list(zip(X, Z))\n",
        "            # Shuffle the D list\n",
        "            np.random.shuffle(D)\n",
        "\n",
        "            # Unzip the shuffled list\n",
        "            X, Z = zip(*D)\n",
        "\n",
        "            for x, z in zip(X, Z):\n",
        "                a = self.predict(x)\n",
        "                dE_da = -(z - a)\n",
        "                e += dE_da ** 2\n",
        "                # Ajuste dos pesos e do bias\n",
        "                self.W -= self.eta * dE_da * sigmoid_derivative(a) * x\n",
        "                self.bias -= self.eta * dE_da * sigmoid_derivative(a)\n",
        "\n",
        "            self.E.append(e/len(X))\n",
        "\n",
        "# Exemplo de uso\n",
        "if __name__ == \"__main__\":\n",
        "    # Inicializando o perceptron\n",
        "    perceptron = Perceptron(input_size=400, learning_rate=0.1)\n",
        "    print(perceptron.W)\n",
        "    # Treinando o perceptron\n",
        "    perceptron.train(X, Z, epochs=10)\n",
        "    print(perceptron.W)\n"
      ]
    },
    {
      "cell_type": "markdown",
      "source": [
        "##A Evolução do Erro Cometido pelo Perceptron\n",
        "###Evolução do Erro Durante o Treino."
      ],
      "metadata": {
        "id": "uhNLEP2gX1Zn"
      }
    },
    {
      "cell_type": "code",
      "execution_count": 4,
      "metadata": {
        "colab": {
          "base_uri": "https://localhost:8080/",
          "height": 474
        },
        "id": "I87_0o8sNz0r",
        "outputId": "631a657d-c688-4723-fd5c-c4fc2dec63f9"
      },
      "outputs": [
        {
          "output_type": "display_data",
          "data": {
            "text/plain": [
              "<Figure size 640x480 with 1 Axes>"
            ],
            "image/png": "[encoded data removed]"
          },
          "metadata": {}
        }
      ],
      "source": [
        "# Exiba o erro\n",
        "plt.plot(perceptron.E)\n",
        "plt.xlabel(\"Épocas\")  # Adicionando rótulo ao eixo X\n",
        "plt.ylabel(\"Erro médio por época\")\n",
        "plt.title('Erro cometido pela rede')\n",
        "plt.show()"
      ]
    },
    {
      "cell_type": "code",
      "execution_count": 5,
      "metadata": {
        "colab": {
          "base_uri": "https://localhost:8080/"
        },
        "collapsed": true,
        "id": "Qq9IHMVbpyqu",
        "outputId": "069eedd2-dbfa-4707-86dd-83a0915d1c71"
      },
      "outputs": [
        {
          "output_type": "execute_result",
          "data": {
            "text/plain": [
              "array([-0.10341059, -0.09764885, -0.01314442,  0.02317181,  0.01874541,\n",
              "        0.01874517,  0.01064193,  0.01413245,  0.01148184,  0.01255141,\n",
              "        0.00567653,  0.01516979,  0.01379511,  0.01218448,  0.01900347,\n",
              "        0.01901927,  0.02022765, -0.0152168 , -0.10283655, -0.1042437 ,\n",
              "       -0.10103747,  0.01858016,  0.02010667,  0.02084884,  0.01003139,\n",
              "        0.01332245,  0.01918196,  0.02232757,  0.02310937,  0.01764973,\n",
              "        0.02326067,  0.01889047,  0.01783574,  0.02667408,  0.01512701,\n",
              "        0.01355466,  0.02023136,  0.01816195,  0.02402755, -0.10275447,\n",
              "       -0.01924398,  0.02213699,  0.01752911,  0.01456389,  0.01977302,\n",
              "        0.02381045,  0.02030233,  0.0223859 ,  0.02265233,  0.01903377,\n",
              "        0.02688107,  0.02493655,  0.02658021,  0.0261335 ,  0.02316422,\n",
              "        0.02640397,  0.00635561,  0.01914505,  0.0176375 , -0.01721106,\n",
              "        0.021072  ,  0.01989871,  0.00828738,  0.01528207,  0.01452388,\n",
              "        0.0171415 ,  0.01312378,  0.01973651,  0.01246004,  0.02158341,\n",
              "        0.01943699,  0.01370169,  0.01176976,  0.01986915,  0.01878311,\n",
              "        0.01900461,  0.01942724,  0.00074045,  0.01529919,  0.01834391,\n",
              "        0.02581626,  0.00623298,  0.01502352,  0.01235012,  0.02029505,\n",
              "        0.02043706,  0.02448129,  0.0235608 ,  0.02605735,  0.02190737,\n",
              "        0.01838117,  0.02431767,  0.02479307,  0.022798  ,  0.0248949 ,\n",
              "        0.02212318,  0.02241255,  0.01598995,  0.00025419,  0.01826414,\n",
              "        0.01749952,  0.0063641 ,  0.02032878,  0.01680024,  0.0207902 ,\n",
              "        0.01967815,  0.02128905,  0.02474074,  0.01947321,  0.01795502,\n",
              "        0.02008274,  0.01879744,  0.0264822 ,  0.02526643,  0.02351926,\n",
              "        0.02042914,  0.01975126,  0.01905092,  0.00892559,  0.02257865,\n",
              "        0.01813549,  0.02067545,  0.02036526,  0.01828574,  0.01399389,\n",
              "       -0.02358548,  0.02536537,  0.02579253,  0.01725475,  0.0222927 ,\n",
              "        0.02135933,  0.0194063 ,  0.01838388,  0.02056138, -0.01842746,\n",
              "        0.01494657,  0.02237313,  0.02421541,  0.01535083,  0.01977891,\n",
              "        0.01509516,  0.01423236,  0.02215771,  0.02019401, -0.01953746,\n",
              "        0.01208341, -0.01983941, -0.01543757, -0.01994957,  0.01997169,\n",
              "        0.02626788, -0.01806874, -0.01901541, -0.02104052,  0.02157104,\n",
              "       -0.01996532,  0.02390658,  0.02480142,  0.01409091,  0.01275285,\n",
              "        0.00914852,  0.0180376 ,  0.02352052,  0.02254297, -0.02148297,\n",
              "        0.02553825, -0.08156233, -0.07076509, -0.02005661,  0.02309415,\n",
              "        0.02396087, -0.02029848, -0.11462988, -0.03538463,  0.01651282,\n",
              "       -0.0206422 ,  0.0240946 ,  0.02105258,  0.02108184,  0.0068459 ,\n",
              "        0.00888135,  0.01284927,  0.02643216,  0.02595862, -0.01980645,\n",
              "        0.02378506,  0.02535745,  0.01726655, -0.02256005,  0.01960375,\n",
              "        0.01811625, -0.06600494,  0.02071872,  0.02351624,  0.02057552,\n",
              "       -0.01889377,  0.02444478,  0.02615633,  0.0205854 ,  0.01326944,\n",
              "        0.011891  ,  0.01255594,  0.01880151,  0.02617077, -0.01632158,\n",
              "       -0.02984335,  0.01272925, -0.06834208,  0.01723584, -0.02624847,\n",
              "       -0.02236922, -0.02848705, -0.01586626,  0.01395723,  0.02430702,\n",
              "       -0.02001338,  0.02043922,  0.02465014,  0.01821087,  0.01396292,\n",
              "        0.01204682,  0.01739762,  0.01812197,  0.02086238, -0.06685439,\n",
              "        0.01415443,  0.02144464,  0.0211162 , -0.02813898,  0.01637248,\n",
              "        0.0180092 ,  0.01508746, -0.02416628,  0.0221104 ,  0.01366697,\n",
              "       -0.01516135,  0.01999295,  0.01742838,  0.01816926,  0.00724179,\n",
              "        0.01487527,  0.02125382,  0.02633387,  0.02088681, -0.02770199,\n",
              "        0.02646841,  0.02146707,  0.02685177,  0.01969729,  0.02571532,\n",
              "        0.02012971,  0.01391207,  0.02569659,  0.02035444,  0.01888015,\n",
              "       -0.02228854,  0.02107609,  0.02414552,  0.01741515,  0.00644245,\n",
              "        0.01621116,  0.02161508,  0.01858606,  0.01689783,  0.02595895,\n",
              "        0.02459291,  0.01956498,  0.02421006,  0.013656  ,  0.02012114,\n",
              "        0.02527884,  0.01816222,  0.02585595,  0.02172723,  0.02229865,\n",
              "        0.02220039,  0.01969749,  0.01821418,  0.01873421,  0.01801902,\n",
              "        0.02608528,  0.00337995,  0.01547037,  0.01812504,  0.02296803,\n",
              "        0.01754465,  0.0218412 , -0.01503792, -0.02931349, -0.01914643,\n",
              "       -0.02474976, -0.03180542, -0.01223836,  0.02078713,  0.01845583,\n",
              "        0.02240766,  0.02488516,  0.01387275,  0.0062289 ,  0.0180387 ,\n",
              "        0.01770204,  0.01078423,  0.01712089,  0.01808884,  0.01897545,\n",
              "        0.02147306,  0.01687754, -0.02270548, -0.02510732, -0.03035086,\n",
              "       -0.02866947, -0.03227462, -0.02568154,  0.02134102,  0.02007434,\n",
              "        0.01867428,  0.01580407,  0.01344748,  0.00703506,  0.01968765,\n",
              "        0.02267749,  0.02433118,  0.01207266,  0.01998456,  0.02673388,\n",
              "        0.02456419,  0.02272876,  0.02330243,  0.02138122,  0.01966253,\n",
              "        0.02074495,  0.02476369,  0.01732916,  0.01834595,  0.01764525,\n",
              "        0.01759251,  0.02573983,  0.01250727,  0.02192696,  0.01816357,\n",
              "       -0.0155482 ,  0.02191994,  0.01891724,  0.0098092 ,  0.02117027,\n",
              "        0.02334372,  0.02353616,  0.01763826,  0.02093135,  0.02344382,\n",
              "        0.02221659,  0.02575012,  0.02377216,  0.01881457,  0.01789091,\n",
              "        0.02360942,  0.0057358 ,  0.02304298,  0.02658753, -0.01470962,\n",
              "       -0.1032743 ,  0.02361811,  0.02176775,  0.02264139,  0.01488533,\n",
              "        0.00933171,  0.02679713,  0.02623873,  0.01914314,  0.01787884,\n",
              "        0.018193  ,  0.01736744,  0.01812965,  0.02401529,  0.00618257,\n",
              "        0.00866044,  0.02563398,  0.01741794,  0.02532991, -0.10433745,\n",
              "       -0.10597435, -0.10018862, -0.01417493,  0.02595994,  0.02453593,\n",
              "        0.02522003,  0.01288144,  0.00724508,  0.01297683,  0.01353903,\n",
              "        0.01537574,  0.00959686,  0.00919087,  0.01782522,  0.02059326,\n",
              "        0.0264928 ,  0.02576935, -0.01617442, -0.09964728, -0.09961057])"
            ]
          },
          "metadata": {},
          "execution_count": 5
        }
      ],
      "source": [
        "perceptron.W"
      ]
    },
    {
      "cell_type": "markdown",
      "source": [
        "##Testando o Perceptron Recém Treinado\n",
        "###Função para testar a resposta do Perceptron após treinado."
      ],
      "metadata": {
        "id": "eVcU_gp5X_vZ"
      }
    },
    {
      "cell_type": "code",
      "execution_count": 6,
      "metadata": {
        "id": "nWNawOCAddBy"
      },
      "outputs": [],
      "source": [
        "# Testando o perceptron\n",
        "def testando_perceptron(test_x):\n",
        "  image = test_x.reshape((20, 20))\n",
        "  title = f\"Predição: {'Gross' if perceptron.predict(test_x) < 0.5 else 'Thin'}\"\n",
        "  # Exiba a imagem\n",
        "  plt.imshow(image, cmap='gray')\n",
        "  plt.axis('off')  # Remove os eixos\n",
        "  plt.title(title)\n",
        "  plt.show()"
      ]
    },
    {
      "cell_type": "code",
      "execution_count": 7,
      "metadata": {
        "colab": {
          "base_uri": "https://localhost:8080/",
          "height": 428
        },
        "id": "CCZ0UqE-4plr",
        "outputId": "0d7338b3-972d-42d4-ff9f-539f2998fecc"
      },
      "outputs": [
        {
          "output_type": "display_data",
          "data": {
            "text/plain": [
              "<Figure size 640x480 with 1 Axes>"
            ],
            "image/png": "[encoded data removed]"
          },
          "metadata": {}
        }
      ],
      "source": [
        "testando_perceptron(test_X[1])"
      ]
    }
  ],
  "metadata": {
    "colab": {
      "provenance": []
    },
    "kernelspec": {
      "display_name": "Python 3",
      "name": "python3"
    },
    "language_info": {
      "name": "python"
    }
  },
  "nbformat": 4,
  "nbformat_minor": 0
}