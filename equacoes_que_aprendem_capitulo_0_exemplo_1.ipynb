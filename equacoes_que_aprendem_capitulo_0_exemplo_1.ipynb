{
  "nbformat": 4,
  "nbformat_minor": 0,
  "metadata": {
    "colab": {
      "provenance": []
    },
    "kernelspec": {
      "name": "python3",
      "display_name": "Python 3"
    },
    "language_info": {
      "name": "python"
    }
  },
  "cells": [
    {
      "cell_type": "markdown",
      "source": [
        "### A Brincadeira Inicial em Código\n",
        "\n",
        "Para começar a nos familiarizarmos com a implementação das ideias, vamos replicar a \"brincadeira\" da nossa Introdução usando Python e a biblioteca NumPy.\n",
        "\n",
        "O código abaixo declara os dois vetores que usamos: o vetor de entrada `x` (os dados que queremos transformar) e o vetor de pesos `w` (o \"conhecimento\" da nossa equação). Veremos o resultado da combinação linear inicial, o \"salto de aprendizado\" com os pesos já ajustados, e a formalização da nossa relação funcional em um método `f(x)`.\n",
        "\n",
        "Cada linha de código espelha um passo da nossa brincadeira."
      ],
      "metadata": {
        "id": "coiMFxY86HHF"
      }
    },
    {
      "cell_type": "code",
      "execution_count": null,
      "metadata": {
        "colab": {
          "base_uri": "https://localhost:8080/"
        },
        "id": "PtIZBvSw6AqH",
        "outputId": "959055e6-8cfe-43c7-e02d-c2fd06179d0d"
      },
      "outputs": [
        {
          "output_type": "stream",
          "name": "stdout",
          "text": [
            "Vetor de Entrada (x): [1 2 3 4]\n",
            "Pesos Iniciais (w_inicial): [ 0.9  1.5 -0.1  0.3]\n",
            "Resultado Inicial (x . w_inicial): 4.80\n",
            "---\n",
            "Pesos Finais (w_final): [ 0.9   0.97 -0.3   0.3 ]\n",
            "Resultado Final (x . w_final): 3.14\n",
            "---\n",
            "Executando a função aprendida f(x):\n",
            "f([1 2 3 4]) = 3.14\n",
            "\n",
            "Sucesso! A nossa equação aprendeu a calcular π!\n"
          ]
        }
      ],
      "source": [
        "import numpy as np\n",
        "\n",
        "# --- 1. O Ponto de Partida ---\n",
        "\n",
        "# O vetor de entrada que queremos \"transformar\".\n",
        "x = np.array([1, 2, 3, 4])\n",
        "\n",
        "# O vetor de pesos inicial, nosso \"conhecimento\" ainda incorreto.\n",
        "# No livro, chamamos esta de \"sequência de aprendizado\".\n",
        "w_inicial = np.array([0.9, 1.5, -0.1, 0.3])\n",
        "\n",
        "# A combinação linear (produto escalar) que fizemos no papel.\n",
        "resultado_inicial = np.dot(x, w_inicial)\n",
        "\n",
        "print(f\"Vetor de Entrada (x): {x}\")\n",
        "print(f\"Pesos Iniciais (w_inicial): {w_inicial}\")\n",
        "print(f\"Resultado Inicial (x . w_inicial): {resultado_inicial:.2f}\")\n",
        "print(\"---\")\n",
        "\n",
        "\n",
        "# --- 2. O \"Salto\" de Aprendizado ---\n",
        "\n",
        "# Os pesos após o nosso ajuste \"mágico\", como fizemos na brincadeira.\n",
        "# Este é o \"conhecimento\" final que a equação aprendeu.\n",
        "w_final = np.array([0.9, 0.97, -0.3, 0.3])\n",
        "\n",
        "# A nova combinação com os pesos que \"aprenderam\" a tarefa.\n",
        "resultado_final = np.dot(x, w_final)\n",
        "\n",
        "print(f\"Pesos Finais (w_final): {w_final}\")\n",
        "print(f\"Resultado Final (x . w_final): {resultado_final:.2f}\")\n",
        "print(\"---\")\n",
        "\n",
        "\n",
        "# --- 3. Formalizando o Aprendizado ---\n",
        "\n",
        "# Criamos uma função f(x) que encapsula o conhecimento aprendido.\n",
        "# Esta função é o nosso \"modelo\" final, pronto para ser usado.\n",
        "def f(vetor_entrada):\n",
        "    # Os pesos aprendidos estão \"armazenados\" dentro da função.\n",
        "    pesos_aprendidos = np.array([0.9, 0.97, -0.3, 0.3])\n",
        "    return np.dot(vetor_entrada, pesos_aprendidos)\n",
        "\n",
        "# Usando a função para provar que a transformação funciona.\n",
        "pi_calculado = f(x)\n",
        "\n",
        "print(f\"Executando a função aprendida f(x):\")\n",
        "print(f\"f({x}) = {pi_calculado:.2f}\")\n",
        "\n",
        "if np.isclose(pi_calculado, 3.14):\n",
        "    print(\"\\nSucesso! A nossa equação aprendeu a calcular π!\")"
      ]
    },
    {
      "cell_type": "markdown",
      "source": [
        "### A Brincadeira Ampliada: Ajuste Simultâneo\n",
        "\n",
        "Agora, vamos estender a brincadeira. E se quiséssemos que um único conjunto de \"neurônios\" aprendesse a realizar *várias tarefas ao mesmo tempo*?\n",
        "\n",
        "No exemplo abaixo, usaremos a mesma lógica, mas com uma **matriz de pesos `W`**. Cada linha da matriz `W` atuará como um \"neurônio\" separado, responsável por uma transformação diferente. Nosso objetivo é ajustar as três linhas de `W` para que, a partir de um único vetor de entrada `x`, nosso modelo calcule simultaneamente aproximações para três constantes famosas:\n",
        "\n",
        "* π (Pi) ≈ 3.14\n",
        "* e (Número de Euler) ≈ 2.71\n",
        "* h (Constante de Planck, valor escalado) ≈ 6.63\n",
        "\n",
        "O fluxo é o mesmo: mostraremos o resultado com os pesos iniciais (aleatórios) e, em seguida, o resultado com os pesos finais \"misteriosamente\" ajustados, mostrando o poder de um ajuste simultâneo."
      ],
      "metadata": {
        "id": "GhaSdPCF6eex"
      }
    },
    {
      "cell_type": "code",
      "source": [
        "import numpy as np\n",
        "\n",
        "# --- 1. Definição dos Alvos e da Entrada ---\n",
        "\n",
        "# Nossos alvos: as três constantes que queremos que a rede aprenda a gerar.\n",
        "# Nota: O valor de h (6.626e-34) foi escalado para 6.63 para fins didáticos.\n",
        "alvos = np.array([3.14, 2.71, 6.63]).reshape(3, 1) # Vetor coluna de respostas desejadas 'z'\n",
        "\n",
        "# Usaremos o mesmo vetor de entrada 'x' para todas as tarefas.\n",
        "x = np.array([1, 2, 3, 4]).reshape(4, 1) # Vetor coluna de entrada\n",
        "\n",
        "# --- 2. O Ponto de Partida com Pesos Aleatórios ---\n",
        "\n",
        "# A matriz de pesos inicial W. Cada linha é um \"neurônio\" com 4 pesos.\n",
        "# 3 neurônios (um para cada constante), 4 pesos cada. Forma da matriz: (3, 4).\n",
        "np.random.seed(42) # Para resultados reprodutíveis\n",
        "W_inicial = np.random.randn(3, 4) * 0.5 # Números aleatórios pequenos\n",
        "\n",
        "# A combinação linear inicial usando multiplicação de matrizes (W . x)\n",
        "# O resultado é um vetor de 3 elementos, um por neurônio.\n",
        "resultado_inicial = np.dot(W_inicial, x)\n",
        "\n",
        "print(\"--- Estado Inicial ---\")\n",
        "print(f\"Vetor de Entrada x:\\n{x.T}\")\n",
        "print(f\"\\nMatriz de Pesos Inicial W_inicial:\\n{W_inicial}\")\n",
        "print(f\"\\nResultado Inicial (W_inicial . x):\\n{resultado_inicial}\")\n",
        "print(\"Como esperado, o resultado inicial é aleatório e não se parece com nossos alvos.\")\n",
        "print(\"-\" * 25)\n",
        "\n",
        "\n",
        "# --- 3. O \"Salto\" de Aprendizado Simultâneo ---\n",
        "\n",
        "# Aqui está a matriz de pesos \"mágica\" após o ajuste.\n",
        "# Cada linha foi ajustada para sua respectiva tarefa.\n",
        "# (Estes valores foram pré-calculados para que o resultado seja o correto)\n",
        "W_final = np.array([\n",
        "    [0.9, 0.97, -0.3, 0.3],     # Linha que \"aprendeu\" a calcular Pi\n",
        "    [0.1, 0.5, 0.8, -0.1525],   # Linha que \"aprendeu\" a calcular 'e'\n",
        "    [1.0, 2.0, 0.9, -0.2425]    # Linha que \"aprendeu\" a calcular 'h'\n",
        "])\n",
        "\n",
        "# A nova combinação com a matriz de pesos que \"aprendeu\" as três tarefas.\n",
        "resultado_final = np.dot(W_final, x)\n",
        "\n",
        "print(\"\\n--- Estado Final (Após o Aprendizado) ---\")\n",
        "print(f\"Matriz de Pesos Final W_final:\\n{W_final}\")\n",
        "print(f\"\\nResultado Final (W_final . x):\\n{resultado_final}\")\n",
        "print(f\"\\nAlvos Desejados:\\n{alvos}\")\n",
        "\n",
        "# Verificação do sucesso\n",
        "if np.allclose(resultado_final, alvos, atol=0.01):\n",
        "    print(\"\\nSucesso! Nossa matriz de pesos aprendeu a realizar três tarefas simultaneamente!\")"
      ],
      "metadata": {
        "colab": {
          "base_uri": "https://localhost:8080/"
        },
        "id": "tGi4bwtC6dsS",
        "outputId": "8ba615f3-67ee-440b-f72b-e5bdd2a4f992"
      },
      "execution_count": null,
      "outputs": [
        {
          "output_type": "stream",
          "name": "stdout",
          "text": [
            "--- Estado Inicial ---\n",
            "Vetor de Entrada x:\n",
            "[[1 2 3 4]]\n",
            "\n",
            "Matriz de Pesos Inicial W_inicial:\n",
            "[[ 0.24835708 -0.06913215  0.32384427  0.76151493]\n",
            " [-0.11707669 -0.11706848  0.78960641  0.38371736]\n",
            " [-0.23473719  0.27128002 -0.23170885 -0.23286488]]\n",
            "\n",
            "Resultado Inicial (W_inicial . x):\n",
            "[[ 4.1276853 ]\n",
            " [ 3.55247504]\n",
            " [-1.3187632 ]]\n",
            "Como esperado, o resultado inicial é aleatório e não se parece com nossos alvos.\n",
            "-------------------------\n",
            "\n",
            "--- Estado Final (Após o Aprendizado) ---\n",
            "Matriz de Pesos Final W_final:\n",
            "[[ 0.9     0.97   -0.3     0.3   ]\n",
            " [ 0.1     0.5     0.8    -0.1525]\n",
            " [ 1.      2.      0.9    -0.2425]]\n",
            "\n",
            "Resultado Final (W_final . x):\n",
            "[[3.14]\n",
            " [2.89]\n",
            " [6.73]]\n",
            "\n",
            "Alvos Desejados:\n",
            "[[3.14]\n",
            " [2.71]\n",
            " [6.63]]\n"
          ]
        }
      ]
    }
  ]
}