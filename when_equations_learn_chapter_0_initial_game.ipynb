{
  "nbformat": 4,
  "nbformat_minor": 0,
  "metadata": {
    "colab": {
      "provenance": []
    },
    "kernelspec": {
      "name": "python3",
      "display_name": "Python 3"
    },
    "language_info": {
      "name": "python"
    }
  },
  "cells": [
    {
      "cell_type": "markdown",
      "source": [
        "### Giving Life to Equations\n",
        "\n",
        "#### The Initial Game in Code\n",
        "\n",
        "To start getting familiar with implementing the ideas, let's replicate the \"little game\" from our Introduction using Python and the NumPy library.\n",
        "\n",
        "The code below declares the two vectors we used: the input vector `x` (the data we want to transform) and the weight vector `w` (the \"knowledge\" of our equation). We will see the result of the initial linear combination, the \"learning leap\" with the already adjusted weights, and the formalization of our functional relationship into a function `f(x)`.\n",
        "\n",
        "Each line of code mirrors a step from our little game.\n"
      ],
      "metadata": {
        "id": "tIDm5vekdgoX"
      }
    },
    {
      "cell_type": "code",
      "execution_count": 1,
      "metadata": {
        "colab": {
          "base_uri": "https://localhost:8080/"
        },
        "id": "D-Qx8gvOdQOR",
        "outputId": "fd910168-aa99-4a18-b2e8-8540588505c6"
      },
      "outputs": [
        {
          "output_type": "stream",
          "name": "stdout",
          "text": [
            "Input Vector (x): [1 2 3 4]\n",
            "Initial Weights (w_inicial): [ 0.9  1.5 -0.1  0.3]\n",
            "Initial Result (x . w_inicial): 4.80\n",
            "---\n",
            "Final Weights (w_final): [ 0.9   0.97 -0.3   0.3 ]\n",
            "Final Result (x . w_final): 3.14\n",
            "---\n",
            "Executing the learned function f(x):\n",
            "f([1 2 3 4]) = 3.14\n",
            "\n",
            "Success! Our equation has learned to calculate π!\n"
          ]
        }
      ],
      "source": [
        "import numpy as np\n",
        "\n",
        "# --- 1. The Starting Point ---\n",
        "\n",
        "# The input vector we want to \"transform\".\n",
        "x = np.array([1, 2, 3, 4])\n",
        "\n",
        "# The initial weight vector, our still-incorrect \"knowledge\".\n",
        "# In the book, we call this the \"learning sequence\".\n",
        "w_inicial = np.array([0.9, 1.5, -0.1, 0.3])\n",
        "\n",
        "# The linear combination (dot product) we did on paper.\n",
        "resultado_inicial = np.dot(x, w_inicial)\n",
        "\n",
        "print(f\"Input Vector (x): {x}\")\n",
        "print(f\"Initial Weights (w_inicial): {w_inicial}\")\n",
        "print(f\"Initial Result (x . w_inicial): {resultado_inicial:.2f}\")\n",
        "print(\"---\")\n",
        "\n",
        "\n",
        "# --- 2. The Learning Leap ---\n",
        "\n",
        "# The weights after our \"magical\" adjustment, as we did in the game.\n",
        "# This is the final \"knowledge\" that the equation has learned.\n",
        "w_final = np.array([0.9, 0.97, -0.3, 0.3])\n",
        "\n",
        "# The new combination with the weights that have \"learned\" the task.\n",
        "resultado_final = np.dot(x, w_final)\n",
        "\n",
        "print(f\"Final Weights (w_final): {w_final}\")\n",
        "print(f\"Final Result (x . w_final): {resultado_final:.2f}\")\n",
        "print(\"---\")\n",
        "\n",
        "\n",
        "# --- 3. Formalizing the Learning ---\n",
        "\n",
        "# We create a function f(x) that encapsulates the learned knowledge.\n",
        "# This function is our final \"model\", ready to be used.\n",
        "def f(input_vector):\n",
        "    # The learned weights are \"stored\" inside the function.\n",
        "    learned_weights = np.array([0.9, 0.97, -0.3, 0.3])\n",
        "    return np.dot(input_vector, learned_weights)\n",
        "\n",
        "# Using the function to prove that the transformation works.\n",
        "pi_calculado = f(x)\n",
        "\n",
        "print(f\"Executing the learned function f(x):\")\n",
        "print(f\"f({x}) = {pi_calculado:.2f}\")\n",
        "\n",
        "if np.isclose(pi_calculado, 3.14):\n",
        "    print(\"\\nSuccess! Our equation has learned to calculate π!\")"
      ]
    },
    {
      "cell_type": "markdown",
      "source": [
        "#### The Extended Game: Simultaneous Adjustment\n",
        "\n",
        "Now, let's extend the game. What if we wanted a single set of \"neurons\" to learn to perform *several tasks at the same time*?\n",
        "\n",
        "In the example below, we will use the same logic, but with a **weight matrix `W`**. Each row of the matrix `W` will act as a separate \"neuron,\" responsible for a different transformation. Our goal is to adjust the three rows of `W` so that, from a single input vector `x`, our model simultaneously calculates approximations for three famous constants:\n",
        "\n",
        "* π (Pi) ≈ 3.14\n",
        "* e (Euler's Number) ≈ 2.71\n",
        "* h (Planck's Constant, scaled value) ≈ 6.63\n",
        "\n",
        "The flow is the same: we will show the result with the initial (random) weights and then the result with the final, \"mysteriously\" adjusted weights, showing the power of simultaneous adjustment."
      ],
      "metadata": {
        "id": "LA43l_dGeDoB"
      }
    },
    {
      "cell_type": "code",
      "source": [
        "import numpy as np\n",
        "\n",
        "# --- 1. Defining the Targets and Input ---\n",
        "\n",
        "# Our targets: the three constants we want the network to learn to generate.\n",
        "# Note: The value of h (6.626e-34) has been scaled to 6.63 for didactic purposes.\n",
        "alvos = np.array([3.14, 2.71, 6.63]).reshape(3, 1) # Column vector of desired responses 'z'\n",
        "\n",
        "# We will use the same input vector 'x' for all tasks.\n",
        "x = np.array([1, 2, 3, 4]).reshape(4, 1) # Column vector for input\n",
        "\n",
        "# --- 2. The Starting Point with Random Weights ---\n",
        "\n",
        "# The initial weight matrix W. Each row is a \"neuron\" with 4 weights.\n",
        "# 3 neurons (one for each constant), 4 weights each. Matrix shape: (3, 4).\n",
        "np.random.seed(42) # For reproducible results\n",
        "W_inicial = np.random.randn(3, 4) * 0.5 # Small random numbers\n",
        "\n",
        "# The initial linear combination using matrix multiplication (W . x)\n",
        "# The result is a vector of 3 elements, one per neuron.\n",
        "resultado_inicial = np.dot(W_inicial, x)\n",
        "\n",
        "print(\"--- Initial State ---\")\n",
        "print(f\"Input Vector x:\\n{x.T}\")\n",
        "print(f\"\\nInitial Weight Matrix W_inicial:\\n{W_inicial}\")\n",
        "print(f\"\\nInitial Result (W_inicial . x):\\n{resultado_inicial}\")\n",
        "print(\"As expected, the initial result is random and does not resemble our targets.\")\n",
        "print(\"-\" * 25)\n",
        "\n",
        "\n",
        "# --- 3. The Simultaneous Learning Leap ---\n",
        "\n",
        "# Here is the \"magical\" weight matrix after the adjustment.\n",
        "# Each row has been adjusted for its respective task.\n",
        "# (These values were pre-calculated so that the result is correct)\n",
        "W_final = np.array([\n",
        "    [0.9, 0.97, -0.3, 0.3],      # Row that \"learned\" to calculate Pi\n",
        "    [0.1, 0.5, 0.8, -0.1525],   # Row that \"learned\" to calculate 'e'\n",
        "    [1.0, 2.0, 0.9, -0.2425]    # Row that \"learned\" to calculate 'h'\n",
        "])\n",
        "\n",
        "# The new combination with the weight matrix that has \"learned\" the three tasks.\n",
        "# Note, below, that the final results are very close to the desired targets. Although we could\n",
        "# have obtained the exact values for π ≈ 3.14, e ≈ 2.71, and h ≈ 6.63 by adequately\n",
        "# manipulating the weights of W_final in more adjustment steps, this is what is normally\n",
        "# obtained numerically in real projects: very good approximations.\n",
        "resultado_final = np.dot(W_final, x)\n",
        "\n",
        "print(\"\\n--- Final State (After Learning) ---\")\n",
        "print(f\"Final Weight Matrix W_final:\\n{W_final}\")\n",
        "print(f\"\\nFinal Result (W_final . x):\\n{resultado_final}\")\n",
        "print(f\"\\nDesired Targets:\\n{alvos}\")\n",
        "\n",
        "# Verifying the success\n",
        "if np.allclose(resultado_final, alvos, atol=0.01):\n",
        "    print(\"\\nSuccess! Our weight matrix has learned to perform three tasks simultaneously!\")"
      ],
      "metadata": {
        "colab": {
          "base_uri": "https://localhost:8080/"
        },
        "id": "r8tN8L8zeIcN",
        "outputId": "57c1174e-b225-43c5-bfdd-baec0b561a1c"
      },
      "execution_count": 2,
      "outputs": [
        {
          "output_type": "stream",
          "name": "stdout",
          "text": [
            "--- Initial State ---\n",
            "Input Vector x:\n",
            "[[1 2 3 4]]\n",
            "\n",
            "Initial Weight Matrix W_inicial:\n",
            "[[ 0.24835708 -0.06913215  0.32384427  0.76151493]\n",
            " [-0.11707669 -0.11706848  0.78960641  0.38371736]\n",
            " [-0.23473719  0.27128002 -0.23170885 -0.23286488]]\n",
            "\n",
            "Initial Result (W_inicial . x):\n",
            "[[ 4.1276853 ]\n",
            " [ 3.55247504]\n",
            " [-1.3187632 ]]\n",
            "As expected, the initial result is random and does not resemble our targets.\n",
            "-------------------------\n",
            "\n",
            "--- Final State (After Learning) ---\n",
            "Final Weight Matrix W_final:\n",
            "[[ 0.9     0.97   -0.3     0.3   ]\n",
            " [ 0.1     0.5     0.8    -0.1525]\n",
            " [ 1.      2.      0.9    -0.2425]]\n",
            "\n",
            "Final Result (W_final . x):\n",
            "[[3.14]\n",
            " [2.89]\n",
            " [6.73]]\n",
            "\n",
            "Desired Targets:\n",
            "[[3.14]\n",
            " [2.71]\n",
            " [6.63]]\n"
          ]
        }
      ]
    }
  ]
}